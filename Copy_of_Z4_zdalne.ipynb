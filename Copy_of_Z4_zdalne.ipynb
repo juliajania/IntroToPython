{
  "nbformat": 4,
  "nbformat_minor": 0,
  "metadata": {
    "colab": {
      "name": "Copy of Z4_zdalne.ipynb",
      "provenance": [],
      "collapsed_sections": [],
      "include_colab_link": true
    },
    "kernelspec": {
      "name": "python3",
      "display_name": "Python 3"
    }
  },
  "cells": [
    {
      "cell_type": "markdown",
      "metadata": {
        "id": "view-in-github",
        "colab_type": "text"
      },
      "source": [
        "<a href=\"https://colab.research.google.com/github/juliajania/IntroToPython/blob/master/Copy_of_Z4_zdalne.ipynb\" target=\"_parent\"><img src=\"https://colab.research.google.com/assets/colab-badge.svg\" alt=\"Open In Colab\"/></a>"
      ]
    },
    {
      "cell_type": "markdown",
      "metadata": {
        "id": "kjZ_A0GD7J2e",
        "colab_type": "text"
      },
      "source": [
        "# **Sieci - zajęcia 4 - 16.03.2020 (zdalne)**"
      ]
    },
    {
      "cell_type": "markdown",
      "metadata": {
        "id": "gBhjcrrl622p",
        "colab_type": "text"
      },
      "source": [
        "# Wprowadzenie\n",
        "Podczas ostatnich zajęć poznali Państwo dwie struktury – listę oraz krotkę. \n",
        "\n",
        "W tym temacie poznają Państwo dwie kolejne struktury. Będą to **zbiory** oraz **słowniki**. Poniżej zamieszczam podstawowe informacje o każdej z tych struktur, przykłady oraz zadania. Proszę przeanalizować te informacje i przykłady, a następnie samodzielnie zmierzyć się z zadaniami. Proszę się od razu nie zrażać, gdyby napotykali Państwo błędy podczas wykonywania tych zadań – proszę w pierwszej kolejności przeanalizować komunikat o błędzie, gdyż może on Państwa nakierować na odpowiedź np. literówkę, brak wcięcia, błędnie zdefiniowany typ. \n",
        "\n",
        "Na Pegazie, w osobnym temacie (na końcu naszego kursu), zamieszczam przykłady odpowiedzi do tych zadań. Proszę rozsądnie z nich korzystać, tj. proszę wpierw podjąć próbę samodzielnego rozwiązania zadań. \n",
        "W razie pytań lub problemów, proszę o kontakt mailowy (najlepiej od razu z Państwa kodem i opisem problemu). \n"
      ]
    },
    {
      "cell_type": "markdown",
      "metadata": {
        "id": "PTKIAfK17h0c",
        "colab_type": "text"
      },
      "source": [
        "# **Zbiór (ang. set) - informacje**"
      ]
    },
    {
      "cell_type": "markdown",
      "metadata": {
        "id": "0Q2tO1e3Db7D",
        "colab_type": "text"
      },
      "source": [
        "**Zbiór** definujemy za pomocą słowa kluczowego set oraz nawiasu okrągłego - **set()**. Zbiór może zawierać jeden argument. W zbiorze znajdują się niepowtarzalne elementy (jeśli umieścimy w zbiorze listę z elementami, które się powtarzają, to powtórzenia zostaną przez zbiór pominięte). \n",
        "\n",
        "Oto podstawowe operacje, które możemy wykonywać na zbiorach:\n",
        "1. Zdefiniowanie zbioru:\n",
        ">`Nazwa_zbioru = set(argument)`\n",
        "\n",
        "2. Sprawdzanie, czy zbiór A zawiera się w zbiorze B: \n",
        ">`A.issubset(B)`\n",
        "\n",
        "3. Sprawdzanie, czy zbiór C zawiera zbiór D: \n",
        ">`C.issuperset(D)`\n",
        "\n",
        "4. Usuwanie wszystkich elementów ze zbioru: \n",
        ">`nazwa_zbioru.clear()`\n"
      ]
    },
    {
      "cell_type": "markdown",
      "metadata": {
        "id": "x3be0UfvCSyI",
        "colab_type": "text"
      },
      "source": [
        "# *przykład zbioru*"
      ]
    },
    {
      "cell_type": "code",
      "metadata": {
        "id": "tw6QS-vUUlXe",
        "colab_type": "code",
        "outputId": "72484ad2-a35e-4b4c-fdc4-73a13636a3b9",
        "colab": {
          "base_uri": "https://localhost:8080/",
          "height": 34
        }
      },
      "source": [
        "#Definuję zbiór o nazwie HS_klasy. Wewnątrz zbioru umieszam klasy z gry Hearthstone\n",
        "#Ponieważa mój zbiór będzie zawierać kilka ciągów znaków, wszystkie te ciągi umieszczam wewnątrz listy (stąd nawias []).\n",
        "#I to właśnie ta lista jest argumentem mojego zbioru\n",
        "\n",
        "HS_klasy = set([\"Druid\", \"Łowca\", \"Mag\", \"Paladyn\", \"Kapłan\", \"Łotr\", \"Szaman\", \"Czarnoksiężnik\", \"Wojownik\", \"neutralne\"])\n",
        "\n",
        "#Wyświetlam zbiór HS_klasy\n",
        "print(HS_klasy)"
      ],
      "execution_count": 0,
      "outputs": [
        {
          "output_type": "stream",
          "text": [
            "{'Druid', 'Łotr', 'Czarnoksiężnik', 'Wojownik', 'Szaman', 'neutralne', 'Mag', 'Kapłan', 'Paladyn', 'Łowca'}\n"
          ],
          "name": "stdout"
        }
      ]
    },
    {
      "cell_type": "code",
      "metadata": {
        "id": "bu6AY2WKXcSv",
        "colab_type": "code",
        "outputId": "a7347210-76a8-49ce-c9dc-33c22c730c47",
        "colab": {
          "base_uri": "https://localhost:8080/",
          "height": 162
        }
      },
      "source": [
        "#Oto przykład błędu, który otrzymam, jeśli nie umieszczę tych ciągów znaków wewnątrz listy\n",
        "#W ostatniej linijce otrzymam dokładną informację o typie błędu - spodziewano się jednego argumentu, a wprowadziłam 10\n",
        "HS_klasy_blad = set(\"Druid\", \"Łowca\", \"Mag\", \"Paladyn\", \"Kapłan\", \"Łotr\", \"Szaman\", \"Czarnoksiężnik\", \"Wojownik\", \"neutralne\")"
      ],
      "execution_count": 0,
      "outputs": [
        {
          "output_type": "error",
          "ename": "TypeError",
          "evalue": "ignored",
          "traceback": [
            "\u001b[0;31m---------------------------------------------------------------------------\u001b[0m",
            "\u001b[0;31mTypeError\u001b[0m                                 Traceback (most recent call last)",
            "\u001b[0;32m<ipython-input-19-9c678cd0576c>\u001b[0m in \u001b[0;36m<module>\u001b[0;34m()\u001b[0m\n\u001b[0;32m----> 1\u001b[0;31m \u001b[0mHS_klasy_blad\u001b[0m \u001b[0;34m=\u001b[0m \u001b[0mset\u001b[0m\u001b[0;34m(\u001b[0m\u001b[0;34m\"Druid\"\u001b[0m\u001b[0;34m,\u001b[0m \u001b[0;34m\"Łowca\"\u001b[0m\u001b[0;34m,\u001b[0m \u001b[0;34m\"Mag\"\u001b[0m\u001b[0;34m,\u001b[0m \u001b[0;34m\"Paladyn\"\u001b[0m\u001b[0;34m,\u001b[0m \u001b[0;34m\"Kapłan\"\u001b[0m\u001b[0;34m,\u001b[0m \u001b[0;34m\"Łotr\"\u001b[0m\u001b[0;34m,\u001b[0m \u001b[0;34m\"Szaman\"\u001b[0m\u001b[0;34m,\u001b[0m \u001b[0;34m\"Czarnoksiężnik\"\u001b[0m\u001b[0;34m,\u001b[0m \u001b[0;34m\"Wojownik\"\u001b[0m\u001b[0;34m,\u001b[0m \u001b[0;34m\"neutralne\"\u001b[0m\u001b[0;34m)\u001b[0m\u001b[0;34m\u001b[0m\u001b[0;34m\u001b[0m\u001b[0m\n\u001b[0m",
            "\u001b[0;31mTypeError\u001b[0m: set expected at most 1 arguments, got 10"
          ]
        }
      ]
    },
    {
      "cell_type": "code",
      "metadata": {
        "id": "kfSR3n6RWMLW",
        "colab_type": "code",
        "outputId": "7d4ed57f-b2e3-488a-8da5-2a8e1d71349d",
        "colab": {
          "base_uri": "https://localhost:8080/",
          "height": 34
        }
      },
      "source": [
        "#Sprawdzam, ile elementów zawiera zbiór HS_klasy\n",
        "\n",
        "len(HS_klasy)"
      ],
      "execution_count": 0,
      "outputs": [
        {
          "output_type": "execute_result",
          "data": {
            "text/plain": [
              "10"
            ]
          },
          "metadata": {
            "tags": []
          },
          "execution_count": 16
        }
      ]
    },
    {
      "cell_type": "code",
      "metadata": {
        "id": "WFhlYDasW0Vu",
        "colab_type": "code",
        "outputId": "550e149b-0195-4501-c85a-76accf9c40da",
        "colab": {
          "base_uri": "https://localhost:8080/",
          "height": 50
        }
      },
      "source": [
        "#Tworzę drugi zbiór o nazwie HS_bohaterowie - w nim umieszczam wszyskie elementy zbioru HS_klasy poza \"neutralne\"\n",
        "HS_bohaterowie = set([\"Druid\", \"Łowca\", \"Mag\", \"Paladyn\", \"Kapłan\", \"Łotr\", \"Szaman\", \"Czarnoksiężnik\", \"Wojownik\"])\n",
        "\n",
        "#Wyświetlam nowy zbiór\n",
        "print(HS_bohaterowie)\n",
        "\n",
        "#Sprawdzam, ile elementów zawiera ten nowy zbiór\n",
        "len(HS_bohaterowie)\n"
      ],
      "execution_count": 0,
      "outputs": [
        {
          "output_type": "stream",
          "text": [
            "{'Druid', 'Łotr', 'Czarnoksiężnik', 'Wojownik', 'Szaman', 'Mag', 'Kapłan', 'Paladyn', 'Łowca'}\n"
          ],
          "name": "stdout"
        },
        {
          "output_type": "execute_result",
          "data": {
            "text/plain": [
              "9"
            ]
          },
          "metadata": {
            "tags": []
          },
          "execution_count": 18
        }
      ]
    },
    {
      "cell_type": "code",
      "metadata": {
        "id": "-gx_wjwDXSo1",
        "colab_type": "code",
        "outputId": "11b56e2e-09b5-4343-bb8d-e326b2af4713",
        "colab": {
          "base_uri": "https://localhost:8080/",
          "height": 34
        }
      },
      "source": [
        "#Teraz sprawdzę, czy zbiór HS_bohaterowie zawiera się w zbiorze HS_klasy \n",
        "#Powinnam otrzymać wartość True, gdyż HS_bohaterowie zawiera się w zbiorze HS_klasy\n",
        "HS_bohaterowie.issubset(HS_klasy)\n"
      ],
      "execution_count": 0,
      "outputs": [
        {
          "output_type": "execute_result",
          "data": {
            "text/plain": [
              "True"
            ]
          },
          "metadata": {
            "tags": []
          },
          "execution_count": 20
        }
      ]
    },
    {
      "cell_type": "code",
      "metadata": {
        "id": "OLOVT1UxYTZj",
        "colab_type": "code",
        "outputId": "cbcf1090-2532-4359-f28f-05dcec489a10",
        "colab": {
          "base_uri": "https://localhost:8080/",
          "height": 34
        }
      },
      "source": [
        "#Teraz sprawdzę, czy zbiór HS_klasy zwiera się w zbiorze HS_bohaterowie\n",
        "#Powinnam otrzymać False, gdyż HS_klasy nie zawiera się w zbiorze HS_bohaterowie\n",
        "HS_klasy.issubset(HS_bohaterowie)"
      ],
      "execution_count": 0,
      "outputs": [
        {
          "output_type": "execute_result",
          "data": {
            "text/plain": [
              "False"
            ]
          },
          "metadata": {
            "tags": []
          },
          "execution_count": 21
        }
      ]
    },
    {
      "cell_type": "code",
      "metadata": {
        "id": "zht419GlY71d",
        "colab_type": "code",
        "outputId": "63a85151-89fe-485a-e45f-73e428ea1fff",
        "colab": {
          "base_uri": "https://localhost:8080/",
          "height": 34
        }
      },
      "source": [
        "#Teraz sprawdzam, czy zbiór HS_bohaterowie zawiera zbiór HS_klasy.\n",
        "#Powinnam otrzymać False\n",
        "\n",
        "HS_bohaterowie.issuperset(HS_klasy)"
      ],
      "execution_count": 0,
      "outputs": [
        {
          "output_type": "execute_result",
          "data": {
            "text/plain": [
              "False"
            ]
          },
          "metadata": {
            "tags": []
          },
          "execution_count": 22
        }
      ]
    },
    {
      "cell_type": "code",
      "metadata": {
        "id": "Cw9jb68cZQbc",
        "colab_type": "code",
        "outputId": "035d08e4-4192-479b-9cd0-a20314dc352f",
        "colab": {
          "base_uri": "https://localhost:8080/",
          "height": 34
        }
      },
      "source": [
        "#Analogicznie sprawdzam relację w drugą stronę - czy HS_klasy zawiera HS_bohaterowie.\n",
        "#Powinnam otrzymać True\n",
        "\n",
        "HS_klasy.issuperset(HS_bohaterowie)"
      ],
      "execution_count": 0,
      "outputs": [
        {
          "output_type": "execute_result",
          "data": {
            "text/plain": [
              "True"
            ]
          },
          "metadata": {
            "tags": []
          },
          "execution_count": 23
        }
      ]
    },
    {
      "cell_type": "code",
      "metadata": {
        "id": "0Kw9E-NNZiGx",
        "colab_type": "code",
        "outputId": "2269833e-ad60-494e-c28f-8eac1fa5c770",
        "colab": {
          "base_uri": "https://localhost:8080/",
          "height": 34
        }
      },
      "source": [
        "#Sprawdzam, czy \"Łowca\" znajduje się w zbiorze HS_klasy\n",
        "\"Łowca\" in HS_klasy"
      ],
      "execution_count": 0,
      "outputs": [
        {
          "output_type": "execute_result",
          "data": {
            "text/plain": [
              "True"
            ]
          },
          "metadata": {
            "tags": []
          },
          "execution_count": 24
        }
      ]
    },
    {
      "cell_type": "code",
      "metadata": {
        "id": "3QU-v3AzZuD4",
        "colab_type": "code",
        "outputId": "5f292ed5-9838-4c2d-ae59-e4edf0143a83",
        "colab": {
          "base_uri": "https://localhost:8080/",
          "height": 50
        }
      },
      "source": [
        "#Dla przypomnienia przećwiczę jeszcze w wersji z if\n",
        "\n",
        "klasa = input(\"Podaj nazwę klasy: \")\n",
        "\n",
        "if klasa in HS_klasy:\n",
        "  print(klasa, \"należy do zbioru HS_klasy\")\n",
        "else:\n",
        "  print(klasa, \"nie należy do zbioru HS_klasy\")"
      ],
      "execution_count": 0,
      "outputs": [
        {
          "output_type": "stream",
          "text": [
            "Podaj nazwę klasy: Włóczykij\n",
            "Włóczykij nie należy do zbioru HS_klasy\n"
          ],
          "name": "stdout"
        }
      ]
    },
    {
      "cell_type": "code",
      "metadata": {
        "id": "nIXqfIK1a2Lk",
        "colab_type": "code",
        "outputId": "0d069e8f-1be5-44d1-9045-63e6b29d0fc3",
        "colab": {
          "base_uri": "https://localhost:8080/",
          "height": 34
        }
      },
      "source": [
        "#Usuwam wszystkie elementy zbioru HS_bohaterowie\n",
        "HS_bohaterowie.clear()\n",
        "\n",
        "print(\"Tak wygląda zbiór HS_bohaterowie, po usunięciu jego elementów: \", HS_bohaterowie)"
      ],
      "execution_count": 0,
      "outputs": [
        {
          "output_type": "stream",
          "text": [
            "Tak wygląda zbiór HS_bohaterowie, po usunięciu jego elementów:  set()\n"
          ],
          "name": "stdout"
        }
      ]
    },
    {
      "cell_type": "markdown",
      "metadata": {
        "id": "4ZwlijDo8JHR",
        "colab_type": "text"
      },
      "source": [
        "# **zadania ze zbiorów**"
      ]
    },
    {
      "cell_type": "markdown",
      "metadata": {
        "colab_type": "text",
        "id": "2FYzqlFK_oYP"
      },
      "source": [
        "**Ćwiczenie 1.** Proszę utworzyć zbiór o nazwie games_set, w którym znajdą się ciągi znaków: 'Gwent', 'HS', 'Hots', 'Wolf Among US', 'HS'\n",
        "\n",
        "**Ćwiczenie 2.** Proszę wywołać zbiór games_set. Jakie właściwości ma set jako struktura?\n",
        "\n",
        "**Ćwiczenie 3.** Proszę zastosować funkcję print do wyświetlenia tekstu: Liczba elementow zbioru games_set:  oraz liczby elementów tego zbioru (uzyskanej za pomocą funkcji len).\n",
        "\n",
        "**Ćwiczenie 4.** Proszę sprawdzić, czy w zbiorze games_set znajdują się elementy (1) HS, (2) AC2. \n",
        "\n",
        "**Ćwiczenie 5.** Do zbioru games_set, proszę dodać wartość Dishonored (uwaga:[link text](https://) metoda właściwa do tej operacji ma schemat: nazwa_zbioru.add(wartość) ). Następie proszę wyświetlić zbiór.\n",
        "\n",
        "**Ćwiczenie 6.** Proszę utworzyć zbiór o nazwie karcianki_set i umieścić w nim wartość 'Gwent','HS' Następnie proszę sprawdzić, czy zbiór karcianki zawiera się w zbiorze games_set.\n"
      ]
    },
    {
      "cell_type": "code",
      "metadata": {
        "id": "Bg5godSPEJog",
        "colab_type": "code",
        "colab": {}
      },
      "source": [
        "#Miejsce na Państwa rozwiązania. \n",
        "#Oczywiście nie musi być wszystko w jednej komórce kodu; mogą dodawać Państwo tyle komórek kodu, ile zechcą."
      ],
      "execution_count": 0,
      "outputs": []
    },
    {
      "cell_type": "code",
      "metadata": {
        "id": "4DOcVXt1avvq",
        "colab_type": "code",
        "colab": {}
      },
      "source": [
        ""
      ],
      "execution_count": 0,
      "outputs": []
    },
    {
      "cell_type": "markdown",
      "metadata": {
        "id": "A7vQq0NP7nsY",
        "colab_type": "text"
      },
      "source": [
        "# **Słownik (ang. dictionary) - informacje**"
      ]
    },
    {
      "cell_type": "markdown",
      "metadata": {
        "id": "QFtITj5D71h2",
        "colab_type": "text"
      },
      "source": [
        "**Słownik** to struktura, która składa się z par ***klucz*** - ***wartość***. Pomiędzy kluczem i wartością należy dać znak **dwukropka** ( **:** ), z kolei pary klucz:wartość należy rozdzielać przecinkami.\n",
        "\n",
        "Uwaga: klucze nie mogą się powtarzać w słowniku. \n",
        "\n",
        "Słownik definuje się za pomocą klamry **{ }**.\n",
        "\n",
        "Oto podstawowe operacje, które możemy wykonywać na słownikach:\n",
        "1.   Zdefiniowanie słownika: \n",
        "\n",
        ">`Nazwa_slownika = {klucz:wartość, klucz2:wartość}`\n",
        "\n",
        "2.  Dodawanie pary klucz/wartość do słownika: \n",
        "\n",
        ">`Nazwa_slownika[klucz] = wartość`\n",
        "\n",
        "3. Pozyskanie wszystkich kluczy: \n",
        "\n",
        ">`Nazwa_slownika.keys()`\n",
        "\n",
        "4. Pozyskanie wszystkich wartości: \n",
        "\n",
        ">`Nazwa_slownika.values()`\n",
        "\n",
        "5. Kopiowanie słownika: \n",
        "\n",
        ">`Nazwa_nowego_slownika = Nazwa_slownika.copy()`\n",
        "\n",
        "6. Pozyskiwanie klucza dla podanej wartości (w Python3.x):\n",
        "\n",
        ">`Nazwa_wartosci = wartość`\n",
        "\n",
        ">`Nazwa_klucza = [key for key, value in nazwa_slownika.items() if value == nazwa_wartosci][0]`\n",
        "\n",
        ">`Nazwa_klucza`\n",
        "\n",
        "7. Usuwanie zawartości słownika: \n",
        "\n",
        ">`Nazwa_slownika.clear()`\n",
        "\n",
        "\n"
      ]
    },
    {
      "cell_type": "markdown",
      "metadata": {
        "id": "ZpuNxyWbBy-v",
        "colab_type": "text"
      },
      "source": [
        "# *przykład słownika*"
      ]
    },
    {
      "cell_type": "code",
      "metadata": {
        "id": "XmBfPeRyEp3b",
        "colab_type": "code",
        "colab": {}
      },
      "source": [
        "#Definiuję słownik o nazwie Panstwa. Kluczami są kody poszczególnych państw, zaś wartośći to polskie nazwy tych państw.\n",
        "Panstwa = {\"AR\":\"Argentyna\", \"AW\":\"Aruba\", \"FI\":\"Finlandia\", \"GL\":\"Grenlandia\", \"JM\":\"Jamajka\"}"
      ],
      "execution_count": 0,
      "outputs": []
    },
    {
      "cell_type": "code",
      "metadata": {
        "id": "8fArvG3-7fR8",
        "colab_type": "code",
        "outputId": "658072f2-2765-411c-a69e-8c9e502c2c29",
        "colab": {
          "base_uri": "https://localhost:8080/",
          "height": 34
        }
      },
      "source": [
        "#wyświtelam słownik Panstwa\n",
        "print(Panstwa)"
      ],
      "execution_count": 0,
      "outputs": [
        {
          "output_type": "stream",
          "text": [
            "{'AR': 'Argentyna', 'AW': 'Aruba', 'FI': 'Finlandia', 'GL': 'Grenlandia', 'JM': 'Jamajka'}\n"
          ],
          "name": "stdout"
        }
      ]
    },
    {
      "cell_type": "code",
      "metadata": {
        "id": "ZfeewvrbIUsi",
        "colab_type": "code",
        "outputId": "5452cf87-7bd3-493c-8701-eaad48a0fb10",
        "colab": {
          "base_uri": "https://localhost:8080/",
          "height": 34
        }
      },
      "source": [
        "#Dodaję kolejny element (parę klucz:wartość) do mojego słownika.\n",
        "Panstwa[\"SN\"] = \"Senegal\"\n",
        "\n",
        "#Wyświetlam słownik pod dodaniu tego nowego elementu\n",
        "print(Panstwa)"
      ],
      "execution_count": 0,
      "outputs": [
        {
          "output_type": "stream",
          "text": [
            "{'AR': 'Argentyna', 'AW': 'Aruba', 'FI': 'Finlandia', 'GL': 'Grenlandia', 'JM': 'Jamajka', 'SN': 'Senegal'}\n"
          ],
          "name": "stdout"
        }
      ]
    },
    {
      "cell_type": "code",
      "metadata": {
        "id": "8rBAKiVpIU8i",
        "colab_type": "code",
        "outputId": "06e9a41c-ca86-4691-dbd1-5af48a4fcf8f",
        "colab": {
          "base_uri": "https://localhost:8080/",
          "height": 34
        }
      },
      "source": [
        "#Pozyskuję wszystkie klucze słownika Panstwa\n",
        "Panstwa.keys()"
      ],
      "execution_count": 0,
      "outputs": [
        {
          "output_type": "execute_result",
          "data": {
            "text/plain": [
              "dict_keys(['AR', 'AW', 'FI', 'GL', 'JM', 'SN'])"
            ]
          },
          "metadata": {
            "tags": []
          },
          "execution_count": 5
        }
      ]
    },
    {
      "cell_type": "code",
      "metadata": {
        "id": "nPtpHfhHIVMP",
        "colab_type": "code",
        "outputId": "3fdd9666-a01a-4480-b592-0e0391370b04",
        "colab": {
          "base_uri": "https://localhost:8080/",
          "height": 34
        }
      },
      "source": [
        "#Pozyskuję wszystkie wartości słownika Panstwa\n",
        "Panstwa.values()"
      ],
      "execution_count": 0,
      "outputs": [
        {
          "output_type": "execute_result",
          "data": {
            "text/plain": [
              "dict_values(['Argentyna', 'Aruba', 'Finlandia', 'Grenlandia', 'Jamajka', 'Senegal'])"
            ]
          },
          "metadata": {
            "tags": []
          },
          "execution_count": 6
        }
      ]
    },
    {
      "cell_type": "code",
      "metadata": {
        "id": "kci1ey2hJToS",
        "colab_type": "code",
        "outputId": "c1a1e150-55cc-4c7c-e6c1-6e291685f420",
        "colab": {
          "base_uri": "https://localhost:8080/",
          "height": 50
        }
      },
      "source": [
        "#Kopiuję cały słownik Panstwa do nowego słownika o nazwie Panstwa_backup\n",
        "Panstwa_backup = Panstwa.copy()\n",
        "\n",
        "#Wyświetlam skopiowany słownik Panstwa_backup\n",
        "print(\"Oto skopiowany słownik: \", Panstwa_backup)\n",
        "\n",
        "#Wyświtelam oryginalny słownik Panstwa\n",
        "print(\"Oto oryginalny słownik: \", Panstwa)\n"
      ],
      "execution_count": 0,
      "outputs": [
        {
          "output_type": "stream",
          "text": [
            "Oto skopiowany słownik:  {'AR': 'Argentyna', 'AW': 'Aruba', 'FI': 'Finlandia', 'GL': 'Grenlandia', 'JM': 'Jamajka', 'SN': 'Senegal'}\n",
            "Oto oryginalny słownik:  {'AR': 'Argentyna', 'AW': 'Aruba', 'FI': 'Finlandia', 'GL': 'Grenlandia', 'JM': 'Jamajka', 'SN': 'Senegal'}\n"
          ],
          "name": "stdout"
        }
      ]
    },
    {
      "cell_type": "code",
      "metadata": {
        "id": "9bAGzsFnJT2h",
        "colab_type": "code",
        "outputId": "3de16ff8-2b9a-42c4-d48c-3496673eb8fc",
        "colab": {
          "base_uri": "https://localhost:8080/",
          "height": 34
        }
      },
      "source": [
        "#Pozyskuję klucz dla wartośći Jamajka (tj. chcę się dowiedzieć, jaki kod ma to państwo)\n",
        "\n",
        "nazwa_panstwa = \"Jamajka\"\n",
        "\n",
        "kod_panstwa = [key for key, value in Panstwa.items() if value == nazwa_panstwa][0]\n",
        "\n",
        "print(\"Oto poszukiwany kod państwa (klucz):\", kod_panstwa)"
      ],
      "execution_count": 0,
      "outputs": [
        {
          "output_type": "stream",
          "text": [
            "Oto poszukiwany kod państwa (klucz): JM\n"
          ],
          "name": "stdout"
        }
      ]
    },
    {
      "cell_type": "code",
      "metadata": {
        "id": "bgNwJExQJUCH",
        "colab_type": "code",
        "outputId": "2af09387-af72-460f-cab9-8b0a8b789306",
        "colab": {
          "base_uri": "https://localhost:8080/",
          "height": 34
        }
      },
      "source": [
        "#Usuwam zawartość słownika Panstwa_backup\n",
        "Panstwa_backup.clear()\n",
        "\n",
        "#Wyświtelam zawartość słownika Panstwa_backup, aby sprawdzić, czy rzeczywiście usunęłam jego zawartość\n",
        "print(\"Oto zawartość słownika Panstwa_backup po zastosowaniu .clear():\", Panstwa_backup)"
      ],
      "execution_count": 0,
      "outputs": [
        {
          "output_type": "stream",
          "text": [
            "Oto zawartość słownika Panstwa_backup po zastosowaniu .clear(): {}\n"
          ],
          "name": "stdout"
        }
      ]
    },
    {
      "cell_type": "code",
      "metadata": {
        "id": "DSthFLrtQyG9",
        "colab_type": "code",
        "outputId": "f895a084-474f-46a8-bc84-0a2881a2c48a",
        "colab": {
          "base_uri": "https://localhost:8080/",
          "height": 50
        }
      },
      "source": [
        "#Uwaga: klucze i wartośći nie muszą być ciągami znaków.\n",
        "\n",
        "#Oto przykład słownika z liczbą (integer) jako kluczem i ciągiem znaków jako wartością\n",
        "Oscar = {2003:\"Chicago\", 2004:\"Władca Pierścieni: Powrót króla\", 2005:\"Za wszelką cenę\"}\n",
        "print(Oscar)\n",
        "\n",
        "#Oto przykład słownika z liczbą jako kluczem i liczbą jako wartością - pietro WZIKS UJ i liczba sal ISI UJ\n",
        "sale = {0:1,1:0,2:2,3:5}\n",
        "print(sale)"
      ],
      "execution_count": 0,
      "outputs": [
        {
          "output_type": "stream",
          "text": [
            "{2003: 'Chicago', 2004: 'Władca Pierścieni: Powrót króla', 2005: 'Za wszelką cenę'}\n",
            "{0: 1, 1: 0, 2: 2, 3: 5}\n"
          ],
          "name": "stdout"
        }
      ]
    },
    {
      "cell_type": "markdown",
      "metadata": {
        "id": "rHsPvycn8YUj",
        "colab_type": "text"
      },
      "source": [
        "# **zadania ze słowników**"
      ]
    },
    {
      "cell_type": "markdown",
      "metadata": {
        "id": "H2su8FbqC6Zc",
        "colab_type": "text"
      },
      "source": [
        "**Ćwiczenie 7.** Proszę utworzyć słownik o nazwie HP_books_1ed_dict, w którym kluczami są daty pierwszych wydań powieści z serii Harry Potter, zaś wartościami korespondujące tytuły tychże powieści. (Uwaga: rozpatrujemy wydania i tytuły angielskie - tutaj są potrzebne informacje: https://en.wikipedia.org/wiki/Harry_Potter). \n",
        "\n",
        "**Ćwiczenie 8.** Proszę dodać do słownika HP_books_1ed_dict klucz 2001 o wartości Fantastic Beasts and Where to Find Them\n",
        "\n",
        "**Ćwiczenie 9.** Ze słownika HP_books_1ed_dict proszę pozyskać wartość dla klucza 1999.\n",
        "\n",
        "**Ćwiczenie 10.** Proszę odszukać klucz dla wartości The Goblet of Fire\n"
      ]
    },
    {
      "cell_type": "code",
      "metadata": {
        "id": "gnwyJk0iEl8I",
        "colab_type": "code",
        "colab": {}
      },
      "source": [
        "#Miejsce na Państwa rozwiązania. \n",
        "#Oczywiście nie musi być wszystko w jednej komórce kodu; mogą dodawać Państwo tyle komórek kodu, ile zechcą."
      ],
      "execution_count": 0,
      "outputs": []
    },
    {
      "cell_type": "code",
      "metadata": {
        "id": "AX9kBkNFayAR",
        "colab_type": "code",
        "colab": {}
      },
      "source": [
        ""
      ],
      "execution_count": 0,
      "outputs": []
    }
  ]
}