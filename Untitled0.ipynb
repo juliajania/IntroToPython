{
  "nbformat": 4,
  "nbformat_minor": 0,
  "metadata": {
    "colab": {
      "name": "Untitled0.ipynb",
      "provenance": [],
      "collapsed_sections": [],
      "authorship_tag": "ABX9TyOABFLJHuhtLoPZAiIQOFyV",
      "include_colab_link": true
    },
    "kernelspec": {
      "name": "python3",
      "display_name": "Python 3"
    }
  },
  "cells": [
    {
      "cell_type": "markdown",
      "metadata": {
        "id": "view-in-github",
        "colab_type": "text"
      },
      "source": [
        "<a href=\"https://colab.research.google.com/github/juliajania/IntroToPython/blob/master/Untitled0.ipynb\" target=\"_parent\"><img src=\"https://colab.research.google.com/assets/colab-badge.svg\" alt=\"Open In Colab\"/></a>"
      ]
    },
    {
      "cell_type": "code",
      "metadata": {
        "id": "NKU35R9ojUxO",
        "colab_type": "code",
        "colab": {}
      },
      "source": [
        "Pirates = [\"The Curse of the Black Pearl\", \"Dead Man's Chest\", \"At World's End\"] "
      ],
      "execution_count": 0,
      "outputs": []
    },
    {
      "cell_type": "code",
      "metadata": {
        "id": "KJiC-Edajo3-",
        "colab_type": "code",
        "colab": {
          "base_uri": "https://localhost:8080/",
          "height": 34
        },
        "outputId": "097ca794-fa1e-421b-9e99-b6e2fc247b7f"
      },
      "source": [
        "Pirates"
      ],
      "execution_count": 17,
      "outputs": [
        {
          "output_type": "execute_result",
          "data": {
            "text/plain": [
              "['The Curse of the Black Pearl', \"Dead Man's Chest\", \"At World's End\"]"
            ]
          },
          "metadata": {
            "tags": []
          },
          "execution_count": 17
        }
      ]
    },
    {
      "cell_type": "code",
      "metadata": {
        "colab_type": "code",
        "id": "aaTHX7MQjvr2",
        "colab": {
          "base_uri": "https://localhost:8080/",
          "height": 34
        },
        "outputId": "14052121-b4d6-40a3-8e75-c73c2b8db4a5"
      },
      "source": [
        "[\"The Curse of the Black Pearl\", \"Dead Man's Chest\", \"At World's End\"] "
      ],
      "execution_count": 9,
      "outputs": [
        {
          "output_type": "execute_result",
          "data": {
            "text/plain": [
              "['The Curse of the Black Pearl', \"Dead Man's Chest\", \"At World's End\"]"
            ]
          },
          "metadata": {
            "tags": []
          },
          "execution_count": 9
        }
      ]
    },
    {
      "cell_type": "code",
      "metadata": {
        "id": "IkiSrZLLjzWy",
        "colab_type": "code",
        "colab": {}
      },
      "source": [
        "Pirates.append(\"Dead Man's Chest\")"
      ],
      "execution_count": 0,
      "outputs": []
    },
    {
      "cell_type": "code",
      "metadata": {
        "id": "3mI5396hkSLV",
        "colab_type": "code",
        "colab": {
          "base_uri": "https://localhost:8080/",
          "height": 153
        },
        "outputId": "7c4a742a-06ef-42f0-cc1f-773eecd39727"
      },
      "source": [
        "Pirates"
      ],
      "execution_count": 15,
      "outputs": [
        {
          "output_type": "execute_result",
          "data": {
            "text/plain": [
              "['The Curse of the Black Pearl',\n",
              " \"Dead Man's Chest\",\n",
              " \"At World's End\",\n",
              " \"Dead Man's Chest\",\n",
              " \"Dead Man's Chest\",\n",
              " \"Dead Man's Chest\",\n",
              " \"Dead Man's Chest\",\n",
              " \"Dead Man's Chest\"]"
            ]
          },
          "metadata": {
            "tags": []
          },
          "execution_count": 15
        }
      ]
    },
    {
      "cell_type": "code",
      "metadata": {
        "id": "DhL-VzFwkbhk",
        "colab_type": "code",
        "colab": {}
      },
      "source": [
        "Pirates.insert(1,\"At World's End\")"
      ],
      "execution_count": 0,
      "outputs": []
    },
    {
      "cell_type": "code",
      "metadata": {
        "id": "FINPGCcek8fF",
        "colab_type": "code",
        "colab": {
          "base_uri": "https://localhost:8080/",
          "height": 85
        },
        "outputId": "80bb3cb5-ec14-470d-98ab-8e8cceb0e4f9"
      },
      "source": [
        "Pirates"
      ],
      "execution_count": 20,
      "outputs": [
        {
          "output_type": "execute_result",
          "data": {
            "text/plain": [
              "['The Curse of the Black Pearl',\n",
              " \"At World's End\",\n",
              " \"Dead Man's Chest\",\n",
              " \"At World's End\"]"
            ]
          },
          "metadata": {
            "tags": []
          },
          "execution_count": 20
        }
      ]
    },
    {
      "cell_type": "code",
      "metadata": {
        "id": "-LzunvGhlIwJ",
        "colab_type": "code",
        "colab": {}
      },
      "source": [
        ""
      ],
      "execution_count": 0,
      "outputs": []
    },
    {
      "cell_type": "markdown",
      "metadata": {
        "id": "Kka2lamhlNoU",
        "colab_type": "text"
      },
      "source": [
        "**Append** wartośc na końcu naszej listy a **Inster**t na początku listy!!!!"
      ]
    },
    {
      "cell_type": "code",
      "metadata": {
        "id": "o3_oTfJMlVrM",
        "colab_type": "code",
        "colab": {
          "base_uri": "https://localhost:8080/",
          "height": 34
        },
        "outputId": "948073fa-d84e-4a19-8c61-b50c2192848f"
      },
      "source": [
        "Pirates[0]"
      ],
      "execution_count": 21,
      "outputs": [
        {
          "output_type": "execute_result",
          "data": {
            "text/plain": [
              "'The Curse of the Black Pearl'"
            ]
          },
          "metadata": {
            "tags": []
          },
          "execution_count": 21
        }
      ]
    },
    {
      "cell_type": "code",
      "metadata": {
        "id": "t9HtXMLflvf4",
        "colab_type": "code",
        "colab": {
          "base_uri": "https://localhost:8080/",
          "height": 163
        },
        "outputId": "cfc9e5ef-bfcb-422b-8391-5b17af7b0975"
      },
      "source": [
        "Pirates.index (\"pies\")"
      ],
      "execution_count": 24,
      "outputs": [
        {
          "output_type": "error",
          "ename": "ValueError",
          "evalue": "ignored",
          "traceback": [
            "\u001b[0;31m---------------------------------------------------------------------------\u001b[0m",
            "\u001b[0;31mValueError\u001b[0m                                Traceback (most recent call last)",
            "\u001b[0;32m<ipython-input-24-6b7dd5f464c8>\u001b[0m in \u001b[0;36m<module>\u001b[0;34m()\u001b[0m\n\u001b[0;32m----> 1\u001b[0;31m \u001b[0mPirates\u001b[0m\u001b[0;34m.\u001b[0m\u001b[0mindex\u001b[0m \u001b[0;34m(\u001b[0m\u001b[0;34m\"pies\"\u001b[0m\u001b[0;34m)\u001b[0m\u001b[0;34m\u001b[0m\u001b[0;34m\u001b[0m\u001b[0m\n\u001b[0m",
            "\u001b[0;31mValueError\u001b[0m: 'pies' is not in list"
          ]
        }
      ]
    },
    {
      "cell_type": "code",
      "metadata": {
        "id": "Ybm97VFNl7uy",
        "colab_type": "code",
        "colab": {
          "base_uri": "https://localhost:8080/",
          "height": 34
        },
        "outputId": "2a90d76d-e6e1-4425-d34b-c2fa9c0023d1"
      },
      "source": [
        "\"The Curse of the Black Pearl\" in Pirates"
      ],
      "execution_count": 25,
      "outputs": [
        {
          "output_type": "execute_result",
          "data": {
            "text/plain": [
              "True"
            ]
          },
          "metadata": {
            "tags": []
          },
          "execution_count": 25
        }
      ]
    },
    {
      "cell_type": "code",
      "metadata": {
        "id": "eK7w_3yNmNQX",
        "colab_type": "code",
        "colab": {
          "base_uri": "https://localhost:8080/",
          "height": 34
        },
        "outputId": "3e4b9377-54b9-41a6-c84e-66e939bec29c"
      },
      "source": [
        "\"kot\" in Pirates"
      ],
      "execution_count": 26,
      "outputs": [
        {
          "output_type": "execute_result",
          "data": {
            "text/plain": [
              "False"
            ]
          },
          "metadata": {
            "tags": []
          },
          "execution_count": 26
        }
      ]
    },
    {
      "cell_type": "code",
      "metadata": {
        "id": "Yt1Q8VwSmRZp",
        "colab_type": "code",
        "colab": {
          "base_uri": "https://localhost:8080/",
          "height": 34
        },
        "outputId": "cc7e1496-2070-40d6-deb4-0986fdcc4c74"
      },
      "source": [
        "type (Pirates)"
      ],
      "execution_count": 27,
      "outputs": [
        {
          "output_type": "execute_result",
          "data": {
            "text/plain": [
              "list"
            ]
          },
          "metadata": {
            "tags": []
          },
          "execution_count": 27
        }
      ]
    },
    {
      "cell_type": "code",
      "metadata": {
        "id": "C5TTiWzPmqTA",
        "colab_type": "code",
        "colab": {
          "base_uri": "https://localhost:8080/",
          "height": 51
        },
        "outputId": "39455d15-78cd-43ea-f1e7-f41f6c6456de"
      },
      "source": [
        "x = input(\"Podaj swoje imię: \")\n",
        "print(\"Hello, \" + x)\n"
      ],
      "execution_count": 28,
      "outputs": [
        {
          "output_type": "stream",
          "text": [
            "Podaj swoje imię: Julia\n",
            "Hello, Julia\n"
          ],
          "name": "stdout"
        }
      ]
    },
    {
      "cell_type": "code",
      "metadata": {
        "id": "pzTvHtaVnjdz",
        "colab_type": "code",
        "colab": {
          "base_uri": "https://localhost:8080/",
          "height": 34
        },
        "outputId": "f75c3194-702d-411a-91eb-8529c9d432a1"
      },
      "source": [
        "org = [\"Dog Rescue\", \"Animal Patrol\", \"Straż Ochrony Zwierząt Animax\"]\n",
        "print(org)\n"
      ],
      "execution_count": 29,
      "outputs": [
        {
          "output_type": "stream",
          "text": [
            "['Dog Rescue', 'Animal Patrol', 'Straż Ochrony Zwierząt Animax']\n"
          ],
          "name": "stdout"
        }
      ]
    },
    {
      "cell_type": "code",
      "metadata": {
        "id": "aV_6dnbHn3fR",
        "colab_type": "code",
        "colab": {
          "base_uri": "https://localhost:8080/",
          "height": 68
        },
        "outputId": "7c1b5010-3649-4e4c-e425-4419ec0d9bc7"
      },
      "source": [
        "x=0\n",
        "for i in org:\n",
        "    print(\"element listy o indeksie\", x, \" : \", org[x])\n",
        "    x+=1\n",
        "\n"
      ],
      "execution_count": 30,
      "outputs": [
        {
          "output_type": "stream",
          "text": [
            "element listy o indeksie 0  :  Dog Rescue\n",
            "element listy o indeksie 1  :  Animal Patrol\n",
            "element listy o indeksie 2  :  Straż Ochrony Zwierząt Animax\n"
          ],
          "name": "stdout"
        }
      ]
    },
    {
      "cell_type": "code",
      "metadata": {
        "id": "g1Uei2vZn_xT",
        "colab_type": "code",
        "colab": {
          "base_uri": "https://localhost:8080/",
          "height": 51
        },
        "outputId": "0196a89d-37dc-4c64-c1a5-05dda4768156"
      },
      "source": [
        "x = input(\"Podaj nazwę organizacji prozwierzęcej, aby sprawdzić, czy znajduje się na liście \")\n",
        "\n",
        "if x in org:\n",
        "    print(x,\" jest na liście organizacji\")\n",
        "else:\n",
        "    print(x, \"nie ma na liście organizacji\")\n",
        "\n"
      ],
      "execution_count": 31,
      "outputs": [
        {
          "output_type": "stream",
          "text": [
            "Podaj nazwę organizacji prozwierzęcej, aby sprawdzić, czy znajduje się na liście Dog Rescue\n",
            "Dog Rescue  jest na liście organizacji\n"
          ],
          "name": "stdout"
        }
      ]
    },
    {
      "cell_type": "code",
      "metadata": {
        "id": "vb8osvqxoKzK",
        "colab_type": "code",
        "colab": {}
      },
      "source": [
        ""
      ],
      "execution_count": 0,
      "outputs": []
    },
    {
      "cell_type": "markdown",
      "metadata": {
        "id": "jtyNJtH0pP5e",
        "colab_type": "text"
      },
      "source": [
        "ZADANIE 1\n"
      ]
    },
    {
      "cell_type": "code",
      "metadata": {
        "id": "3bfL05FjpZ3m",
        "colab_type": "code",
        "colab": {}
      },
      "source": [
        ""
      ],
      "execution_count": 0,
      "outputs": []
    },
    {
      "cell_type": "markdown",
      "metadata": {
        "id": "NQzA9HA7pbOu",
        "colab_type": "text"
      },
      "source": [
        "1.\tUtworzyć listę o nazwie DC, składającą się z elementów: Green Arrow, Flash, Iron Man, Batman"
      ]
    },
    {
      "cell_type": "code",
      "metadata": {
        "id": "DuvovcgupdKw",
        "colab_type": "code",
        "colab": {}
      },
      "source": [
        "DC = [\"Green Arrow\", \"Flash\", \"Iron Man\"]"
      ],
      "execution_count": 0,
      "outputs": []
    },
    {
      "cell_type": "code",
      "metadata": {
        "id": "Zs0SBP58p8Ou",
        "colab_type": "code",
        "colab": {
          "base_uri": "https://localhost:8080/",
          "height": 34
        },
        "outputId": "4e4d868d-6a52-451f-8607-096a0a394eb3"
      },
      "source": [
        "DC"
      ],
      "execution_count": 34,
      "outputs": [
        {
          "output_type": "execute_result",
          "data": {
            "text/plain": [
              "['Green Arrow', 'Flash', 'Iron Man']"
            ]
          },
          "metadata": {
            "tags": []
          },
          "execution_count": 34
        }
      ]
    },
    {
      "cell_type": "code",
      "metadata": {
        "id": "7e3GNJ05qSBP",
        "colab_type": "code",
        "colab": {
          "base_uri": "https://localhost:8080/",
          "height": 34
        },
        "outputId": "f51ee670-29de-4fd5-fd9a-5813ac80f127"
      },
      "source": [
        "len(DC)"
      ],
      "execution_count": 36,
      "outputs": [
        {
          "output_type": "execute_result",
          "data": {
            "text/plain": [
              "3"
            ]
          },
          "metadata": {
            "tags": []
          },
          "execution_count": 36
        }
      ]
    },
    {
      "cell_type": "code",
      "metadata": {
        "id": "jwZUvX5Kp9xE",
        "colab_type": "code",
        "colab": {
          "base_uri": "https://localhost:8080/",
          "height": 34
        },
        "outputId": "72d65806-acbc-40b2-f707-a5c4801915e5"
      },
      "source": [
        "DC.index(\"Iron Man\")"
      ],
      "execution_count": 37,
      "outputs": [
        {
          "output_type": "execute_result",
          "data": {
            "text/plain": [
              "2"
            ]
          },
          "metadata": {
            "tags": []
          },
          "execution_count": 37
        }
      ]
    },
    {
      "cell_type": "code",
      "metadata": {
        "id": "8Pq7slQCqhYb",
        "colab_type": "code",
        "colab": {}
      },
      "source": [
        "DC.remove(\"Iron Man\")"
      ],
      "execution_count": 0,
      "outputs": []
    },
    {
      "cell_type": "code",
      "metadata": {
        "id": "YyCXYF0CqoTa",
        "colab_type": "code",
        "colab": {
          "base_uri": "https://localhost:8080/",
          "height": 34
        },
        "outputId": "160de826-28c2-482e-9909-58f76ff70b5a"
      },
      "source": [
        "len(DC)"
      ],
      "execution_count": 39,
      "outputs": [
        {
          "output_type": "execute_result",
          "data": {
            "text/plain": [
              "2"
            ]
          },
          "metadata": {
            "tags": []
          },
          "execution_count": 39
        }
      ]
    },
    {
      "cell_type": "code",
      "metadata": {
        "id": "nqomVWMvqszH",
        "colab_type": "code",
        "colab": {}
      },
      "source": [
        "DC.append(\"Superman\")"
      ],
      "execution_count": 0,
      "outputs": []
    },
    {
      "cell_type": "code",
      "metadata": {
        "id": "uv0BlgAuq72D",
        "colab_type": "code",
        "colab": {
          "base_uri": "https://localhost:8080/",
          "height": 34
        },
        "outputId": "5bcf6b06-75b3-45aa-91da-0d99e54b0c77"
      },
      "source": [
        "len(DC)"
      ],
      "execution_count": 41,
      "outputs": [
        {
          "output_type": "execute_result",
          "data": {
            "text/plain": [
              "3"
            ]
          },
          "metadata": {
            "tags": []
          },
          "execution_count": 41
        }
      ]
    },
    {
      "cell_type": "code",
      "metadata": {
        "id": "ydrH1sqIq9ey",
        "colab_type": "code",
        "colab": {}
      },
      "source": [
        "DC.insert(3,\"Joker\")"
      ],
      "execution_count": 0,
      "outputs": []
    },
    {
      "cell_type": "code",
      "metadata": {
        "id": "zwXM07dOrLIU",
        "colab_type": "code",
        "colab": {
          "base_uri": "https://localhost:8080/",
          "height": 34
        },
        "outputId": "c0e1b878-202b-4c04-e7c6-b96450cffda2"
      },
      "source": [
        "len(DC)"
      ],
      "execution_count": 44,
      "outputs": [
        {
          "output_type": "execute_result",
          "data": {
            "text/plain": [
              "4"
            ]
          },
          "metadata": {
            "tags": []
          },
          "execution_count": 44
        }
      ]
    },
    {
      "cell_type": "code",
      "metadata": {
        "id": "2WwDEOmsrRIb",
        "colab_type": "code",
        "colab": {}
      },
      "source": [
        "DC.append(\"Black Canary\")"
      ],
      "execution_count": 0,
      "outputs": []
    },
    {
      "cell_type": "code",
      "metadata": {
        "id": "m4XvQ_4Yrk75",
        "colab_type": "code",
        "colab": {
          "base_uri": "https://localhost:8080/",
          "height": 34
        },
        "outputId": "51d474da-2cb9-45c3-e54a-9c6f3121f784"
      },
      "source": [
        "if 'Green Arrow' in DC:\n",
        "  DC.append(\"BlacK Canary\")\n",
        "  print(DC)\n",
        "else:\n",
        " print (\"nie ma tego\")"
      ],
      "execution_count": 64,
      "outputs": [
        {
          "output_type": "stream",
          "text": [
            "['Green Arrow', 'Flash', 'Superman', 'Joker', 'Black Canary', 'BlacK Canary']\n"
          ],
          "name": "stdout"
        }
      ]
    },
    {
      "cell_type": "code",
      "metadata": {
        "id": "0nm60p7Ir2rJ",
        "colab_type": "code",
        "colab": {}
      },
      "source": [
        ""
      ],
      "execution_count": 0,
      "outputs": []
    }
  ]
}